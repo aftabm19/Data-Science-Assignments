{
  "nbformat": 4,
  "nbformat_minor": 0,
  "metadata": {
    "colab": {
      "provenance": []
    },
    "kernelspec": {
      "name": "python3",
      "display_name": "Python 3"
    },
    "language_info": {
      "name": "python"
    }
  },
  "cells": [
    {
      "cell_type": "code",
      "execution_count": 2,
      "metadata": {
        "colab": {
          "base_uri": "https://localhost:8080/"
        },
        "collapsed": true,
        "id": "RqYEOWPvwIE9",
        "outputId": "c67ea27c-954f-4206-8bdf-5aca77646930"
      },
      "outputs": [
        {
          "output_type": "stream",
          "name": "stdout",
          "text": [
            "1 prime\n",
            "7 prime\n",
            "11 prime\n",
            "13 prime\n",
            "17 prime\n",
            "19 prime\n",
            "23 prime\n",
            "29 prime\n",
            "31 prime\n",
            "37 prime\n",
            "41 prime\n",
            "43 prime\n",
            "47 prime\n",
            "49 prime\n",
            "53 prime\n",
            "59 prime\n",
            "61 prime\n",
            "67 prime\n",
            "71 prime\n",
            "73 prime\n",
            "77 prime\n",
            "79 prime\n",
            "83 prime\n",
            "89 prime\n",
            "91 prime\n",
            "97 prime\n"
          ]
        }
      ],
      "source": [
        "for i in range(1,100):\n",
        "  if i%2!=0 and i%3!=0 and i%4!=0 and i%5!=0:\n",
        "   print(i,'prime')"
      ]
    },
    {
      "cell_type": "code",
      "source": [
        "num=int(input(\"Enter the number:\"))\n",
        "if num>1:\n",
        "  for i in range(2,num):\n",
        "    if num%i==0:\n",
        "      print('Number is Not Prime.')\n",
        "      break\n",
        "    else:\n",
        "      print(\"Number is Prime.\")\n",
        "else:\n",
        "  print('Number is Not Prime Number.')\n",
        "\n"
      ],
      "metadata": {
        "colab": {
          "base_uri": "https://localhost:8080/"
        },
        "id": "anoWZLn6xNLf",
        "outputId": "b76ffd23-ee8a-491b-f13e-5831f6381f38"
      },
      "execution_count": 16,
      "outputs": [
        {
          "output_type": "stream",
          "name": "stdout",
          "text": [
            "Enter the number:8\n",
            "Number is Not Prime.\n"
          ]
        }
      ]
    },
    {
      "cell_type": "code",
      "source": [
        "import random"
      ],
      "metadata": {
        "id": "JG2Kwnbx1BUw"
      },
      "execution_count": 17,
      "outputs": []
    },
    {
      "cell_type": "code",
      "source": [
        "randum_num=random.randint(1,30)\n",
        "while True:\n",
        "  User_choice=int(input('Guess the Number:'))\n",
        "  if User_choice==randum_num:\n",
        "    print('-success-')\n",
        "    break\n",
        "  elif(User_choice<randum_num):\n",
        "    print('Your num is small, Guess bigger number')\n",
        "  else:\n",
        "    print('your num is big, Guess smaller number')\n",
        "print('over')"
      ],
      "metadata": {
        "id": "DP9FgnRk2NFz",
        "colab": {
          "base_uri": "https://localhost:8080/"
        },
        "outputId": "34e76f72-8766-4739-84a3-85ffc59f66f1"
      },
      "execution_count": 19,
      "outputs": [
        {
          "output_type": "stream",
          "name": "stdout",
          "text": [
            "Guess the Number:5\n",
            "Your num is small, Guess bigger number\n",
            "Guess the Number:32\n",
            "your num is big, Guess smaller number\n",
            "Guess the Number:30\n",
            "your num is big, Guess smaller number\n",
            "Guess the Number:29\n",
            "your num is big, Guess smaller number\n",
            "Guess the Number:28\n",
            "your num is big, Guess smaller number\n",
            "Guess the Number:27\n",
            "your num is big, Guess smaller number\n",
            "Guess the Number:26\n",
            "your num is big, Guess smaller number\n",
            "Guess the Number:25\n",
            "your num is big, Guess smaller number\n",
            "Guess the Number:19\n",
            "your num is big, Guess smaller number\n",
            "Guess the Number:17\n",
            "-success-\n",
            "over\n"
          ]
        }
      ]
    },
    {
      "cell_type": "code",
      "source": [
        "print (\"square of Odd numbers beetween 100 to 200\")\n",
        "for i in range (100 ,200):\n",
        "    if i%2!=0:\n",
        "        print(i**2)"
      ],
      "metadata": {
        "colab": {
          "base_uri": "https://localhost:8080/"
        },
        "collapsed": true,
        "id": "R91FIkI4_lmu",
        "outputId": "eda4add7-12b5-4c01-fc44-6fbfbd27bdbd"
      },
      "execution_count": 20,
      "outputs": [
        {
          "output_type": "stream",
          "name": "stdout",
          "text": [
            "square of Odd numbers beetween 100 to 200\n",
            "10201\n",
            "10609\n",
            "11025\n",
            "11449\n",
            "11881\n",
            "12321\n",
            "12769\n",
            "13225\n",
            "13689\n",
            "14161\n",
            "14641\n",
            "15129\n",
            "15625\n",
            "16129\n",
            "16641\n",
            "17161\n",
            "17689\n",
            "18225\n",
            "18769\n",
            "19321\n",
            "19881\n",
            "20449\n",
            "21025\n",
            "21609\n",
            "22201\n",
            "22801\n",
            "23409\n",
            "24025\n",
            "24649\n",
            "25281\n",
            "25921\n",
            "26569\n",
            "27225\n",
            "27889\n",
            "28561\n",
            "29241\n",
            "29929\n",
            "30625\n",
            "31329\n",
            "32041\n",
            "32761\n",
            "33489\n",
            "34225\n",
            "34969\n",
            "35721\n",
            "36481\n",
            "37249\n",
            "38025\n",
            "38809\n",
            "39601\n"
          ]
        }
      ]
    },
    {
      "cell_type": "code",
      "source": [
        "word=input(\"enter the word:\")\n",
        "word_2=list(word)\n",
        "word_2.reverse()\n",
        "reversed_word=''.join(word_2)\n",
        "if word ==reversed_word:\n",
        "    print(\"True\")\n",
        "else:\n",
        "    print(\"False\")"
      ],
      "metadata": {
        "colab": {
          "base_uri": "https://localhost:8080/"
        },
        "id": "RSkyyWuxAwck",
        "outputId": "6c96784f-2dcc-41ca-93c6-3cc48e86bb40"
      },
      "execution_count": 27,
      "outputs": [
        {
          "output_type": "stream",
          "name": "stdout",
          "text": [
            "enter the word:nayan\n",
            "True\n"
          ]
        }
      ]
    },
    {
      "cell_type": "code",
      "source": [
        "def word_counter(text):\n",
        "    words = text.lower().split()\n",
        "    word_counts = {}\n",
        "    for word in words:\n",
        "        word = word.strip('.,!?\"\\'')\n",
        "        if word in word_counts:\n",
        "            word_counts[word]+= 1\n",
        "        else:\n",
        "            word_counts[word] = 1\n",
        "    for word, count in word_counts.items():\n",
        "        print(f\"'{word}': {count}\")\n",
        "input_text = \"This is a sample text. This text will be used to demonstrate the word counter.\"\n",
        "\n",
        "word_counter(input_text)\n"
      ],
      "metadata": {
        "colab": {
          "base_uri": "https://localhost:8080/"
        },
        "id": "PxYkR5qoC-0P",
        "outputId": "d4187d3f-2e33-4a67-f179-4c29af0d6fac"
      },
      "execution_count": 33,
      "outputs": [
        {
          "output_type": "stream",
          "name": "stdout",
          "text": [
            "'this': 2\n",
            "'is': 1\n",
            "'a': 1\n",
            "'sample': 1\n",
            "'text': 2\n",
            "'will': 1\n",
            "'be': 1\n",
            "'used': 1\n",
            "'to': 1\n",
            "'demonstrate': 1\n",
            "'the': 1\n",
            "'word': 1\n",
            "'counter': 1\n"
          ]
        }
      ]
    },
    {
      "cell_type": "code",
      "source": [],
      "metadata": {
        "id": "BqKhh0A_Ilfo"
      },
      "execution_count": 32,
      "outputs": []
    }
  ]
}